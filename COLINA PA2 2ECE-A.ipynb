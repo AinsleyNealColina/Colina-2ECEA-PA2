{
 "cells": [
  {
   "cell_type": "code",
   "execution_count": 1,
   "id": "34872a18-9a40-4741-a54f-5bbbe8c09c0c",
   "metadata": {},
   "outputs": [
    {
     "name": "stdout",
     "output_type": "stream",
     "text": [
      "Original Array X:\n",
      " [[0.25969251 0.81604597 0.93463217 0.64696463 0.36770039]\n",
      " [0.12270526 0.32207305 0.5060242  0.04590564 0.50596985]\n",
      " [0.36429402 0.85316461 0.03369596 0.99761344 0.41199905]\n",
      " [0.13735818 0.39403911 0.14284229 0.74284485 0.24742338]\n",
      " [0.62658672 0.78068478 0.66911023 0.20598502 0.41501415]]\n",
      "Mean of X: 0.46201477923397555\n",
      "Standard Deviation of X: 0.27970953499367857\n",
      "Normalized Array X_normalized:\n",
      " [[-0.72332988  1.26571012  1.68967209  0.66122113 -0.33718688]\n",
      " [-1.21307811 -0.5003109   0.15733974 -1.48764731  0.15714541]\n",
      " [-0.34936514  1.39841436 -1.53129859  1.91483876 -0.17881311]\n",
      " [-1.16069194 -0.24302235 -1.14108548  1.00400608 -0.7671937 ]\n",
      " [ 0.5883673   1.13928902  0.74039466 -0.91534156 -0.16803372]]\n",
      "X_normalized.npy has been saved.\n"
     ]
    }
   ],
   "source": [
    "import numpy as np\n",
    "\n",
    "\n",
    "X = np.random.rand(5, 5)\n",
    "print(\"Original Array X:\\n\", X)\n",
    "\n",
    "\n",
    "mean_X = X.mean()\n",
    "std_X = X.std()\n",
    "\n",
    "print(\"Mean of X:\", mean_X)\n",
    "print(\"Standard Deviation of X:\", std_X)\n",
    "\n",
    "\n",
    "X_normalized = (X - mean_X) / std_X\n",
    "print(\"Normalized Array X_normalized:\\n\", X_normalized)\n",
    "\n",
    "\n",
    "np.save('X_normalized.npy', X_normalized)\n",
    "print(\"X_normalized.npy has been saved.\")"
   ]
  },
  {
   "cell_type": "code",
   "execution_count": 3,
   "id": "35dfeabe-aeef-4063-a081-db8a3b28f652",
   "metadata": {},
   "outputs": [
    {
     "name": "stdout",
     "output_type": "stream",
     "text": [
      "Array A (Squares of the first 100 positive integers):\n",
      " [[    1     4     9    16    25    36    49    64    81   100]\n",
      " [  121   144   169   196   225   256   289   324   361   400]\n",
      " [  441   484   529   576   625   676   729   784   841   900]\n",
      " [  961  1024  1089  1156  1225  1296  1369  1444  1521  1600]\n",
      " [ 1681  1764  1849  1936  2025  2116  2209  2304  2401  2500]\n",
      " [ 2601  2704  2809  2916  3025  3136  3249  3364  3481  3600]\n",
      " [ 3721  3844  3969  4096  4225  4356  4489  4624  4761  4900]\n",
      " [ 5041  5184  5329  5476  5625  5776  5929  6084  6241  6400]\n",
      " [ 6561  6724  6889  7056  7225  7396  7569  7744  7921  8100]\n",
      " [ 8281  8464  8649  8836  9025  9216  9409  9604  9801 10000]]\n",
      "Elements of A divisible by 3:\n",
      " [   9   36   81  144  225  324  441  576  729  900 1089 1296 1521 1764\n",
      " 2025 2304 2601 2916 3249 3600 3969 4356 4761 5184 5625 6084 6561 7056\n",
      " 7569 8100 8649 9216 9801]\n",
      "div_by_3.npy has been saved.\n"
     ]
    }
   ],
   "source": [
    "import numpy as np\n",
    "\n",
    "# Step 1: Create a 10x10 ndarray with squares of the first 100 positive integers\n",
    "A = np.arange(1, 101) ** 2\n",
    "A = A.reshape(10, 10)\n",
    "print(\"Array A (Squares of the first 100 positive integers):\\n\", A)\n",
    "\n",
    "# Step 2: Determine elements divisible by 3\n",
    "div_by_3 = A[A % 3 == 0]\n",
    "print(\"Elements of A divisible by 3:\\n\", div_by_3)\n",
    "\n",
    "# Step 3: Save the result as div_by_3.npy\n",
    "np.save('div_by_3.npy', div_by_3)\n",
    "print(\"div_by_3.npy has been saved.\")"
   ]
  },
  {
   "cell_type": "code",
   "execution_count": null,
   "id": "859fa747-5439-4852-b11a-57355c5c506a",
   "metadata": {},
   "outputs": [],
   "source": []
  }
 ],
 "metadata": {
  "kernelspec": {
   "display_name": "Python 3 (ipykernel)",
   "language": "python",
   "name": "python3"
  },
  "language_info": {
   "codemirror_mode": {
    "name": "ipython",
    "version": 3
   },
   "file_extension": ".py",
   "mimetype": "text/x-python",
   "name": "python",
   "nbconvert_exporter": "python",
   "pygments_lexer": "ipython3",
   "version": "3.12.4"
  }
 },
 "nbformat": 4,
 "nbformat_minor": 5
}
